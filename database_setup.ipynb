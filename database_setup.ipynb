{
 "cells": [
  {
   "cell_type": "markdown",
   "metadata": {},
   "source": [
    "# Database Connection"
   ]
  },
  {
   "cell_type": "code",
   "execution_count": 1,
   "metadata": {},
   "outputs": [],
   "source": [
    "from pymongo import MongoClient\n",
    "\n",
    "#MongoDB Connection\n",
    "client = MongoClient('mongodb://localhost:27017/')"
   ]
  },
  {
   "cell_type": "markdown",
   "metadata": {},
   "source": [
    "# Create Database and Collection"
   ]
  },
  {
   "cell_type": "code",
   "execution_count": 2,
   "metadata": {},
   "outputs": [],
   "source": [
    "# Create Database\n",
    "db = client['VideoKeyframeDB']\n",
    "\n",
    "# Create the Collection\n",
    "collection = db['videos']"
   ]
  },
  {
   "cell_type": "markdown",
   "metadata": {},
   "source": [
    "# Prepare and insert Data"
   ]
  },
  {
   "cell_type": "code",
   "execution_count": 4,
   "metadata": {},
   "outputs": [],
   "source": [
    "import os\n",
    "import cv2\n",
    "\n",
    "def parse_shot_boundaries(file_path):\n",
    "    with open(file_path, 'r') as file:\n",
    "        lines = file.readlines()\n",
    "        shots = [line.strip().split(', ') for line in lines]\n",
    "        return shots\n",
    "\n",
    "def extract_framerate(video_path):\n",
    "    video = cv2.VideoCapture(video_path)\n",
    "    framerate = video.get(cv2.CAP_PROP_FPS)\n",
    "    video.release()\n",
    "    return framerate\n",
    "\n",
    "def read_keyframe_image(file_path):\n",
    "    with open(file_path, 'rb') as f:\n",
    "        return f.read()\n",
    "\n",
    "def prepare_video_data(video_id, collection_name, video_path, shot_boundaries_path, keyframes_path):\n",
    "    original_framerate = extract_framerate(video_path)\n",
    "    shots = parse_shot_boundaries(shot_boundaries_path)\n",
    "    frames = []\n",
    "    for i, (start, end) in enumerate(shots, start=1):\n",
    "        frame_id = f\"{video_id}_Scene-{i}\"\n",
    "        frame = {\n",
    "            \"FrameID\": frame_id,\n",
    "            \"Starttime\": start,\n",
    "            \"Endtime\": end,\n",
    "            \"Objects\": []\n",
    "        }\n",
    "        frames.append(frame)\n",
    "\n",
    "    video_data = {\n",
    "        \"VideoID\": video_id,\n",
    "        \"CollectionName\": collection_name,\n",
    "        \"OriginalFramerate\": original_framerate,\n",
    "        \"EditedFramerate\": \"Null\",\n",
    "        \"Frames\": frames\n",
    "    }\n",
    "    return video_data\n",
    "\n",
    "def insert_all_videos(base_video_path, base_shot_boundaries_path, base_keyframes_path, collection_name):\n",
    "    for video_num in range(100, 200): # from 00100 to 00199\n",
    "        video_id = f\"{video_num:05d}\"\n",
    "        video_path = os.path.join(base_video_path, f\"{video_id}.mp4\")\n",
    "        shot_boundaries_path = os.path.join(base_shot_boundaries_path, f\"{video_id}_shots.txt\")\n",
    "        keyframes_path = os.path.join(base_keyframes_path, video_id)\n",
    "\n",
    "        if os.path.exists(shot_boundaries_path) and os.path.exists(keyframes_path):\n",
    "            video_data = prepare_video_data(video_id, collection_name, video_path, shot_boundaries_path, keyframes_path)\n",
    "            collection.insert_one(video_data)\n",
    "        else:\n",
    "            print(f\"Missing Video Data for Video {video_id}: {shot_boundaries_path} or {keyframes_path}\")\n",
    "\n",
    "#Change according to config\n",
    "base_video_path = 'V3C-100'\n",
    "base_shot_boundaries_path = 'shot_boundaries'\n",
    "base_keyframes_path = 'keyframes'\n",
    "collection_name = 'V3C100'\n",
    "\n",
    "insert_all_videos(base_video_path, base_shot_boundaries_path, base_keyframes_path, collection_name)"
   ]
  },
  {
   "cell_type": "code",
   "execution_count": null,
   "metadata": {},
   "outputs": [],
   "source": []
  }
 ],
 "metadata": {
  "kernelspec": {
   "display_name": "dl",
   "language": "python",
   "name": "python3"
  },
  "language_info": {
   "codemirror_mode": {
    "name": "ipython",
    "version": 3
   },
   "file_extension": ".py",
   "mimetype": "text/x-python",
   "name": "python",
   "nbconvert_exporter": "python",
   "pygments_lexer": "ipython3",
   "version": "3.9.18"
  }
 },
 "nbformat": 4,
 "nbformat_minor": 2
}
